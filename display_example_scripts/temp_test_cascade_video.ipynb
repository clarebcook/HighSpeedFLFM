{
 "cells": [
  {
   "cell_type": "code",
   "execution_count": null,
   "metadata": {},
   "outputs": [],
   "source": [
    "# 2024/11/19\n",
    "# playing around with trying to see a spatial relationship with when points start or stop moving\n",
    "# I'm not really seeing that, so this can likely be deleted"
   ]
  },
  {
   "cell_type": "code",
   "execution_count": null,
   "metadata": {},
   "outputs": [],
   "source": [
    "from hsflfm.util import load_dictionary\n",
    "from hsflfm.analysis import ResultManager, ResultPlotter, MetadataManager\n",
    "\n",
    "from matplotlib import pyplot as plt\n",
    "import numpy as np"
   ]
  },
  {
   "cell_type": "code",
   "execution_count": null,
   "metadata": {},
   "outputs": [],
   "source": [
    "MetadataManager.all_specimen_numbers()"
   ]
  },
  {
   "cell_type": "code",
   "execution_count": null,
   "metadata": {},
   "outputs": [],
   "source": [
    "specimen_name = \"20240506_OB_3\"\n",
    "strike_number = 8"
   ]
  },
  {
   "cell_type": "code",
   "execution_count": null,
   "metadata": {},
   "outputs": [],
   "source": [
    "result_info = load_dictionary(f\"../temporary_result_storage_3/{specimen_name}/strike_{strike_number}_results.json\")"
   ]
  },
  {
   "cell_type": "code",
   "execution_count": null,
   "metadata": {},
   "outputs": [],
   "source": [
    "rm = ResultManager(result_info)\n",
    "plotter = ResultPlotter(result_info)"
   ]
  },
  {
   "cell_type": "code",
   "execution_count": null,
   "metadata": {},
   "outputs": [],
   "source": [
    "values = rm.peak_indices()\n",
    "_ = plotter.scatter_values(values, cmap='turbo')\n",
    "plotter.scatter_over_image(values)\n",
    "_ = plotter.scatter_peak_disp()\n",
    "plotter.plot_all_displacement()"
   ]
  },
  {
   "cell_type": "code",
   "execution_count": null,
   "metadata": {},
   "outputs": [],
   "source": [
    "# figure out when points reach 10% of max value \n",
    "rm.peak_displacements()"
   ]
  },
  {
   "cell_type": "code",
   "execution_count": null,
   "metadata": {},
   "outputs": [],
   "source": [
    "z_disp = rm.rel_displacements[:, :, 2]\n",
    "strike_index = int(rm.strike_center_index())\n",
    "point_cross_indices = []\n",
    "for i, p in enumerate(z_disp):\n",
    "    plt.plot(p, color='black')\n",
    "    maxv = rm.peak_displacements()[i]\n",
    "    thresh = maxv / 10\n",
    "    #if abs(thresh) < 0.003:\n",
    "    #    point_cross_indices.append(np.nan)\n",
    "    #    continue\n",
    "    #plt.axhline(y=thresh)\n",
    "\n",
    "    diff = p - thresh \n",
    "    crossing_indices = np.where(np.diff(np.sign(diff)))[0]\n",
    "    closest_cross = crossing_indices[np.argmin(np.abs(crossing_indices - strike_index))]\n",
    "\n",
    "    #print(crossing_indices, closest_cross)\n",
    "    #for i in crossing_indices:\n",
    "    p1, p2 = p[closest_cross], p[closest_cross + 1] \n",
    "    crossing = closest_cross + (thresh - p1) / (p2 - p1)\n",
    "    plt.axvline(x=crossing)\n",
    "    point_cross_indices.append(float(crossing))\n",
    "    #break\n",
    "\n",
    "plt.axvline(x=rm.strike_center_index())"
   ]
  },
  {
   "cell_type": "code",
   "execution_count": null,
   "metadata": {},
   "outputs": [],
   "source": [
    "start_locs = rm.point_start_locs_ant_mm\n",
    "plt.scatter(start_locs[:, 1], start_locs[:, 0], c=point_cross_indices,\n",
    "            clim=(16, 18)\n",
    "            )\n",
    "plt.colorbar()"
   ]
  },
  {
   "cell_type": "code",
   "execution_count": null,
   "metadata": {},
   "outputs": [],
   "source": [
    "start_locs.shape"
   ]
  },
  {
   "cell_type": "code",
   "execution_count": null,
   "metadata": {},
   "outputs": [],
   "source": []
  }
 ],
 "metadata": {
  "kernelspec": {
   "display_name": "hsflfm",
   "language": "python",
   "name": "python3"
  },
  "language_info": {
   "codemirror_mode": {
    "name": "ipython",
    "version": 3
   },
   "file_extension": ".py",
   "mimetype": "text/x-python",
   "name": "python",
   "nbconvert_exporter": "python",
   "pygments_lexer": "ipython3",
   "version": "3.12.7"
  }
 },
 "nbformat": 4,
 "nbformat_minor": 2
}

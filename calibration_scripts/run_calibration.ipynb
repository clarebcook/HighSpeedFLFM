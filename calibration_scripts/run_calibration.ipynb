{
 "cells": [
  {
   "cell_type": "code",
   "execution_count": null,
   "metadata": {},
   "outputs": [],
   "source": [
    "# import\n",
    "from hsflfm.config import home_directory\n",
    "from hsflfm.util import load_graph_images, load_dictionary, generate_A_matrix\n",
    "from hsflfm.calibration import CalibrationInfoManager, SystemVertexParser, SystemCalibrator, FLF_System\n",
    "\n",
    "import os \n",
    "import numpy as np\n",
    "from PIL import Image \n",
    "from matplotlib import pyplot as plt\n",
    "from matplotlib.patches import Rectangle"
   ]
  },
  {
   "cell_type": "markdown",
   "metadata": {},
   "source": [
    "Step 1: Parse Vertices"
   ]
  },
  {
   "cell_type": "code",
   "execution_count": null,
   "metadata": {},
   "outputs": [],
   "source": [
    "calibration_folder = home_directory + '/Videos/20240427/20240427_calibration'\n",
    "calibration_filename = \"delete_calibration_information\" #calibration_folder + '/calibration_information'\n",
    "\n",
    "info_manager = CalibrationInfoManager(calibration_filename)"
   ]
  },
  {
   "cell_type": "code",
   "execution_count": null,
   "metadata": {},
   "outputs": [],
   "source": [
    "# known information \n",
    "info_manager.vertex_spacing_m = 500e-6\n",
    "info_manager.pixel_size = 52e-6\n",
    "\n",
    "info_manager.save_all_info()"
   ]
  },
  {
   "cell_type": "code",
   "execution_count": null,
   "metadata": {},
   "outputs": [],
   "source": [
    "# give the manager enough information to find the graph images\n",
    "# this may need to be changed if different naming conventions were used \n",
    "# the dictionary just needs to contain a substring that is unique to the specific plane image\n",
    "\n",
    "plane_names = np.sort([i for i in os.listdir(calibration_folder) if \"tiff\" in i])\n",
    "name_dict = {}\n",
    "for i, name in enumerate(plane_names):\n",
    "    name_dict[i] = name \n",
    "info_manager.plane_names = name_dict "
   ]
  },
  {
   "cell_type": "code",
   "execution_count": null,
   "metadata": {},
   "outputs": [],
   "source": [
    "# load one image to identify where images should be cropped\n",
    "# right now functions are only tested with the provided crops\n",
    "\n",
    "crop_indices = {\n",
    "    0: [230, 480, 0, 200],\n",
    "    1: [230, 480, 440, 640],\n",
    "    2: [0, 250, 220, 420],\n",
    "}\n",
    "\n",
    "# this could be done with any image, including of an ant\n",
    "image_filename = calibration_folder + '/' + plane_names[0] \n",
    "raw_image = Image.open(image_filename)\n",
    "plt.imshow(raw_image)\n",
    "ax = plt.gca()\n",
    "for c in crop_indices.values():\n",
    "    rect = Rectangle((c[2], c[0]), c[3] - c[2], c[1] - c[0], fill=False, color='red')\n",
    "    ax.add_artist(rect)"
   ]
  },
  {
   "cell_type": "code",
   "execution_count": null,
   "metadata": {},
   "outputs": [],
   "source": [
    "info_manager.crop_indices = crop_indices\n",
    "info_manager.save_all_info()"
   ]
  },
  {
   "cell_type": "code",
   "execution_count": null,
   "metadata": {},
   "outputs": [],
   "source": [
    "# load all the images\n",
    "all_images = load_graph_images(folder=calibration_folder, calibration_filename=calibration_filename)"
   ]
  },
  {
   "cell_type": "code",
   "execution_count": null,
   "metadata": {},
   "outputs": [],
   "source": [
    "# view one image to get the expected spacing between lines\n",
    "plt.figure()\n",
    "plt.imshow(all_images[0][0])\n",
    "plt.colorbar()"
   ]
  },
  {
   "cell_type": "code",
   "execution_count": null,
   "metadata": {},
   "outputs": [],
   "source": [
    "expected_spacing = 160 - 135"
   ]
  },
  {
   "cell_type": "code",
   "execution_count": null,
   "metadata": {},
   "outputs": [],
   "source": [
    "parser = SystemVertexParser(calibration_filename, expected_vertex_spacing=expected_spacing, all_images=all_images)"
   ]
  },
  {
   "cell_type": "code",
   "execution_count": null,
   "metadata": {},
   "outputs": [],
   "source": [
    "# use this cell to adjust threshold values\n",
    "# see the README in the calibration folder\n",
    "# for more info on settings these values  \n",
    "threshold_values = {\n",
    "    # used in \"cv2.adaptiveThreshold\" to convert graph images to binary images\n",
    "    # should be an odd number that approximately matches the expected spacing\n",
    "    \"adaptive_threshold_range\": 23,\n",
    "    # used in cv2.medianBlur to filter the binary image\n",
    "    # larger numbers will blur out smaller features in the image other than the\n",
    "    # graph lines we are trying to identify\n",
    "    \"blur_range\": 3,\n",
    "    # \"edge_thresh\" and \"edge_aperture\" are used in cv2.Canny\n",
    "    # to identify edges in the images. \n",
    "    # consult cv2 documentation for use\n",
    "    \"edge_thresh1\": 80,\n",
    "    \"edge_thresh2\": 150,\n",
    "    \"edge_aperture\": 5,\n",
    "    # line_thresh_per_pixel * #pixel used in cv2.HoughLines to \n",
    "    # identify lines from edges\n",
    "    \"line_thresh_per_pixel\": 0.55,\n",
    "}\n",
    "\n",
    "camera_number = 0\n",
    "plane_number = 1\n",
    "parser.find_lines(camera_number, plane_number, show=True, threshold_values=threshold_values,\n",
    "                  show_process=False)"
   ]
  },
  {
   "cell_type": "code",
   "execution_count": null,
   "metadata": {},
   "outputs": [],
   "source": [
    "parser.find_all_remaining_lines(show=False, max_display=1000)\n",
    "parser.save_all_parameters()"
   ]
  },
  {
   "cell_type": "code",
   "execution_count": null,
   "metadata": {},
   "outputs": [],
   "source": [
    "# for \"ValueError: cannot convert float NaN to integer\"\n",
    "# just pick a different camera number or plane number to look at\n",
    "parser.find_vertices(camera_number=0, plane_number=1, show=True)"
   ]
  },
  {
   "cell_type": "code",
   "execution_count": null,
   "metadata": {},
   "outputs": [],
   "source": [
    "parser.find_all_remaining_vertices(show=False, max_display=200)\n",
    "parser.remove_nan_points() \n",
    "parser.save_all_parameters()"
   ]
  },
  {
   "cell_type": "markdown",
   "metadata": {},
   "source": [
    "Step 2: Remove extraneous vertices\n",
    "\n",
    "While this step can be improved in future versions, right now extraneous vertices must be manually removed, or they will impact the calibration results. This can be done by running ``remove_vertices.py`` (first open the file and adjust necessary settings). "
   ]
  },
  {
   "cell_type": "markdown",
   "metadata": {},
   "source": [
    "Step 3: identify approximate alignment points between images\n",
    "\n",
    "This step can likely be automated in future versions of the code, but right now the user must manually select approximate alignment points between the images. This can be done by finding a feature visible in all 48 images, then running ``select_alignment_points.py`` to click on that point in all the images. "
   ]
  },
  {
   "cell_type": "markdown",
   "metadata": {},
   "source": [
    "Step 4: Fit calibration coefficients\n",
    "\n",
    "In this portion, the identified graph vertices are used to perform inter- and intr-camera calibration"
   ]
  },
  {
   "cell_type": "code",
   "execution_count": null,
   "metadata": {},
   "outputs": [],
   "source": [
    "# this can be uncommented to display interactive plots\n",
    "# %matplotlib notebook"
   ]
  },
  {
   "cell_type": "code",
   "execution_count": null,
   "metadata": {},
   "outputs": [],
   "source": [
    "reference_camera = 2"
   ]
  },
  {
   "cell_type": "code",
   "execution_count": null,
   "metadata": {},
   "outputs": [],
   "source": [
    "# select reference plane based on how many vertices were identified in each plane\n",
    "# the first number gives the total number of vertices identified in a given plane \n",
    "# between all images\n",
    "# and the second number is the number of identified vertices in the image with the \n",
    "# least identified vertices.\n",
    "# both of these numbers should be reasonably large in the chosen reference plane\n",
    "vertices = load_dictionary(calibration_filename)['all_vertices']\n",
    "\n",
    "for plane_num, values in vertices.items():\n",
    "    plane_points = 0\n",
    "    min_points = np.inf\n",
    "    for cam, points in values.items():\n",
    "        plane_points = plane_points + len(points) \n",
    "        min_points = min(min_points, len(points))\n",
    "    print(plane_num, \"total points:\", plane_points, \", mininum points in an image:\", min_points)"
   ]
  },
  {
   "cell_type": "code",
   "execution_count": null,
   "metadata": {},
   "outputs": [],
   "source": [
    "reference_plane = 1"
   ]
  },
  {
   "cell_type": "code",
   "execution_count": null,
   "metadata": {},
   "outputs": [],
   "source": [
    "plane_separation_mm = 0.381\n",
    "calibrator = SystemCalibrator(\n",
    "    calibration_filename=calibration_filename,\n",
    "    reference_plane=reference_plane,\n",
    "    reference_camera=reference_camera,\n",
    "    plane_separation_mm = plane_separation_mm,\n",
    "    ref_plane_image_folder = None,\n",
    "    useable_plane_numbers = None # if None, this will use all planes\n",
    ")"
   ]
  },
  {
   "cell_type": "code",
   "execution_count": null,
   "metadata": {},
   "outputs": [],
   "source": [
    "calibrator.run_inter_camera_calibration(show=True, order=2)"
   ]
  },
  {
   "cell_type": "code",
   "execution_count": null,
   "metadata": {},
   "outputs": [],
   "source": [
    "calibrator.run_slope_calibration(show=True, order=2)"
   ]
  },
  {
   "cell_type": "markdown",
   "metadata": {},
   "source": [
    "Step 5: check if results look reasonable"
   ]
  },
  {
   "cell_type": "code",
   "execution_count": null,
   "metadata": {},
   "outputs": [],
   "source": [
    "system = FLF_System(calibration_filename)\n",
    "all_camera_vertices_matrices = calibrator.all_camera_vertices_matrices"
   ]
  },
  {
   "cell_type": "code",
   "execution_count": null,
   "metadata": {},
   "outputs": [],
   "source": [
    "def make_comparison_plot(camera_number, vector_length_mm=None):\n",
    "    slope0, slope1 = calibrator.get_slopes_from_vertices_matrices(camera_number)\n",
    "    vertices_matrices = all_camera_vertices_matrices[camera_number]\n",
    "\n",
    "    plt.figure()\n",
    "    matrix_shape = vertices_matrices.shape[1:3] \n",
    "    first = True\n",
    "    for i, j in np.ndindex(matrix_shape):\n",
    "        if first:\n",
    "            label1 = \"Comptuted slope vector\"\n",
    "            label2 = \"Fit slope\"\n",
    "            label3 = \"Vertex locations\"\n",
    "        else:\n",
    "            label1 = None\n",
    "            label2 = None\n",
    "            label3 = None\n",
    "                \n",
    "        X = vertices_matrices[:, i, j, 0]\n",
    "        Y = vertices_matrices[:, i, j, 1] \n",
    "            \n",
    "        if not np.isnan(slope0[i, j]):\n",
    "            if vector_length_mm is None:\n",
    "                start_plane_mm = (np.where(~np.isnan(X))[0][0] - system.reference_plane) * plane_separation_mm\n",
    "                end_plane_mm = (np.where(~np.isnan(X))[0][-1] - system.reference_plane) * plane_separation_mm\n",
    "            else:\n",
    "                start_plane_mm = -vector_length_mm / 2\n",
    "                end_plane_mm = vector_length_mm / 2\n",
    "\n",
    "            x = vertices_matrices[system.reference_plane, i, j, 0]\n",
    "            y = vertices_matrices[system.reference_plane, i, j, 1]\n",
    "            \n",
    "            # plot the slope vector that was fit to that point \n",
    "            coeff0, coeff1 = system._get_slope_coeffs(camera_number)\n",
    "            slope_matrix = generate_A_matrix(system.shift_order, [x], [y])\n",
    "            v1 = np.matmul(slope_matrix, coeff0)[0]\n",
    "            v0 = np.matmul(slope_matrix, coeff1)[0]\n",
    "            x_start = x + v0 * start_plane_mm \n",
    "            x_end = x + v0 * end_plane_mm \n",
    "            y_start = y + v1 * start_plane_mm \n",
    "            y_end = y + v1 * end_plane_mm \n",
    "            plt.plot([x_start, x, x_end], [y_start, y, y_end], '-', linewidth=3, color=\"blue\", label=label2)\n",
    "            \n",
    "            s0 = slope0[i, j]\n",
    "            s1 = slope1[i, j]\n",
    "            x_start = x + s0 * start_plane_mm / plane_separation_mm\n",
    "            x_end = x + s0 * end_plane_mm / plane_separation_mm\n",
    "            y_start = y + s1 * start_plane_mm / plane_separation_mm\n",
    "            y_end = y + s1 * end_plane_mm / plane_separation_mm\n",
    "\n",
    "            # plot the originally calculated slope vector\n",
    "            plt.plot([x_start, x, x_end], [y_start, y, y_end], '-', markersize=2, color=\"orange\", label=label1)\n",
    "\n",
    "        if False in np.isnan(X):\n",
    "            plt.plot(X, Y, '.', markersize=3, color='red', label=label3)\n",
    "            first = False\n",
    "\n",
    "\n",
    "    plt.legend(bbox_to_anchor=(1, 1))\n",
    "    if vector_length_mm is not None:\n",
    "        title = f\"Slopes for camera {camera_number}, \\n shown for {vector_length_mm} mm axial shift\"\n",
    "    else:\n",
    "        title = f\"Slopes for camera {camera_number}, \\n vector length varies to match location of located vertices\"\n",
    "    plt.title(title)\n",
    "\n",
    "    plt.xlim([0, 200]) \n",
    "    plt.ylim([0, 250]) \n",
    "    plt.tight_layout()\n",
    "    plt.gca().set_aspect('equal')\n",
    "\n",
    "make_comparison_plot(0, vector_length_mm=2)\n",
    "make_comparison_plot(1, vector_length_mm=2)\n",
    "make_comparison_plot(2, vector_length_mm=2)"
   ]
  },
  {
   "cell_type": "code",
   "execution_count": null,
   "metadata": {},
   "outputs": [],
   "source": []
  }
 ],
 "metadata": {
  "kernelspec": {
   "display_name": "hsflfm",
   "language": "python",
   "name": "python3"
  },
  "language_info": {
   "codemirror_mode": {
    "name": "ipython",
    "version": 3
   },
   "file_extension": ".py",
   "mimetype": "text/x-python",
   "name": "python",
   "nbconvert_exporter": "python",
   "pygments_lexer": "ipython3",
   "version": "3.12.7"
  }
 },
 "nbformat": 4,
 "nbformat_minor": 2
}

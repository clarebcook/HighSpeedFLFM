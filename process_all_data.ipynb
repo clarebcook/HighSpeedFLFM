{
 "cells": [
  {
   "cell_type": "code",
   "execution_count": 1,
   "metadata": {},
   "outputs": [],
   "source": [
    "from hsflfm.processing import Aligner, StrikeProcessor\n",
    "from hsflfm.util import MetadataManager, load_dictionary, save_dictionary\n",
    "\n",
    "import os\n",
    "from tqdm import tqdm"
   ]
  },
  {
   "cell_type": "code",
   "execution_count": 2,
   "metadata": {},
   "outputs": [],
   "source": [
    "import warnings\n",
    "\n",
    "warnings.filterwarnings(\"ignore\")"
   ]
  },
  {
   "cell_type": "code",
   "execution_count": 3,
   "metadata": {},
   "outputs": [],
   "source": [
    "save_folder = \"temporary_result_storage\"\n",
    "assert os.path.exists(save_folder)\n",
    "\n",
    "saved_results_filename = save_folder + \"/processed.json\"\n",
    "if not os.path.exists(saved_results_filename):\n",
    "    processed_vids = {}\n",
    "else:\n",
    "    processed_vids = load_dictionary(saved_results_filename)"
   ]
  },
  {
   "cell_type": "code",
   "execution_count": 4,
   "metadata": {},
   "outputs": [],
   "source": [
    "specimen_numbers = MetadataManager.all_specimen_numbers()"
   ]
  },
  {
   "cell_type": "code",
   "execution_count": null,
   "metadata": {},
   "outputs": [
    {
     "name": "stdout",
     "output_type": "stream",
     "text": [
      "20220422_OB_1 specimen 0 of 29\n"
     ]
    },
    {
     "name": "stderr",
     "output_type": "stream",
     "text": [
      "100%|██████████| 7/7 [00:00<?, ?it/s]\n"
     ]
    },
    {
     "name": "stdout",
     "output_type": "stream",
     "text": [
      "skipping 20220422_OB_1 strike 1\n",
      "skipping 20220422_OB_1 strike 2\n",
      "skipping 20220422_OB_1 strike 3\n",
      "skipping 20220422_OB_1 strike 4\n",
      "skipping 20220422_OB_1 strike 5\n",
      "skipping 20220422_OB_1 strike 6\n",
      "skipping 20220422_OB_1 strike 7\n",
      "20220427_OB_1 specimen 1 of 29\n"
     ]
    },
    {
     "name": "stderr",
     "output_type": "stream",
     "text": [
      "100%|██████████| 8/8 [00:00<?, ?it/s]\n"
     ]
    },
    {
     "name": "stdout",
     "output_type": "stream",
     "text": [
      "skipping 20220427_OB_1 strike 1\n",
      "skipping 20220427_OB_1 strike 2\n",
      "skipping 20220427_OB_1 strike 3\n",
      "skipping 20220427_OB_1 strike 4\n",
      "skipping 20220427_OB_1 strike 5\n",
      "skipping 20220427_OB_1 strike 6\n",
      "skipping 20220427_OB_1 strike 7\n",
      "skipping 20220427_OB_1 strike 8\n",
      "20220427_OB_2 specimen 2 of 29\n"
     ]
    },
    {
     "name": "stderr",
     "output_type": "stream",
     "text": [
      "100%|██████████| 8/8 [00:00<?, ?it/s]\n"
     ]
    },
    {
     "name": "stdout",
     "output_type": "stream",
     "text": [
      "skipping 20220427_OB_2 strike 1\n",
      "skipping 20220427_OB_2 strike 2\n",
      "skipping 20220427_OB_2 strike 3\n",
      "skipping 20220427_OB_2 strike 4\n",
      "skipping 20220427_OB_2 strike 5\n",
      "skipping 20220427_OB_2 strike 6\n",
      "skipping 20220427_OB_2 strike 7\n",
      "skipping 20220427_OB_2 strike 8\n",
      "20220427_OB_3 specimen 3 of 29\n"
     ]
    },
    {
     "name": "stderr",
     "output_type": "stream",
     "text": [
      "100%|██████████| 4/4 [00:00<?, ?it/s]\n"
     ]
    },
    {
     "name": "stdout",
     "output_type": "stream",
     "text": [
      "skipping 20220427_OB_3 strike 1\n",
      "skipping 20220427_OB_3 strike 2\n",
      "skipping 20220427_OB_3 strike 3\n",
      "skipping 20220427_OB_3 strike 4\n",
      "20220427_OB_4 specimen 4 of 29\n"
     ]
    },
    {
     "name": "stderr",
     "output_type": "stream",
     "text": [
      "100%|██████████| 9/9 [00:00<?, ?it/s]\n"
     ]
    },
    {
     "name": "stdout",
     "output_type": "stream",
     "text": [
      "skipping 20220427_OB_4 strike 1\n",
      "skipping 20220427_OB_4 strike 2\n",
      "skipping 20220427_OB_4 strike 3\n",
      "skipping 20220427_OB_4 strike 4\n",
      "skipping 20220427_OB_4 strike 5\n",
      "skipping 20220427_OB_4 strike 6\n",
      "skipping 20220427_OB_4 strike 7\n",
      "skipping 20220427_OB_4 strike 8\n",
      "skipping 20220427_OB_4 strike 9\n",
      "20220427_OB_5 specimen 5 of 29\n"
     ]
    },
    {
     "name": "stderr",
     "output_type": "stream",
     "text": [
      "  0%|          | 0/21 [00:00<?, ?it/s]"
     ]
    },
    {
     "name": "stdout",
     "output_type": "stream",
     "text": [
      "skipping 20220427_OB_5 strike 1\n",
      "skipping 20220427_OB_5 strike 2\n",
      "skipping 20220427_OB_5 strike 3\n",
      "skipping 20220427_OB_5 strike 4\n",
      "skipping 20220427_OB_5 strike 5\n",
      "skipping 20220427_OB_5 strike 6\n",
      "skipping 20220427_OB_5 strike 7\n",
      "skipping 20220427_OB_5 strike 8\n",
      "skipping 20220427_OB_5 strike 9\n",
      "skipping 20220427_OB_5 strike 10\n",
      "skipping 20220427_OB_5 strike 11\n",
      "skipping 20220427_OB_5 strike 12\n"
     ]
    },
    {
     "name": "stderr",
     "output_type": "stream",
     "text": [
      " 71%|███████▏  | 15/21 [00:48<00:25,  4.31s/it]"
     ]
    }
   ],
   "source": [
    "for i, num in enumerate(specimen_numbers):\n",
    "    print(num, f\"specimen {i} of {len(specimen_numbers)}\")\n",
    "    try:\n",
    "        data_manager = MetadataManager(num)\n",
    "        aligner = Aligner(num)\n",
    "\n",
    "        strike_numbers = data_manager.strike_numbers\n",
    "\n",
    "        f = save_folder + f\"/{num}\"\n",
    "        if not os.path.exists(f):\n",
    "            os.mkdir(f)\n",
    "\n",
    "        if num not in processed_vids:\n",
    "            processed_vids[num] = []\n",
    "    except Exception as e:\n",
    "        print(f\"failed on specimen {num}\")\n",
    "\n",
    "    for strike_num in tqdm(strike_numbers):\n",
    "        if strike_num in processed_vids[num]:\n",
    "            print(f\"skipping {num} strike {strike_num}\")\n",
    "            continue\n",
    "        try:\n",
    "            result_info = aligner.prepare_strike_results(strike_num)\n",
    "            processor = StrikeProcessor(result_info)\n",
    "            processor.get_flow_vectors()\n",
    "            processor.run_regression()\n",
    "            processor.get_relative_displacements()\n",
    "            result_info = processor.condense_info()\n",
    "\n",
    "            save_name = f + f\"/strike_{strike_num}_results.json\"\n",
    "            save_dictionary(result_info, save_name)\n",
    "            assert os.path.exists(save_name)\n",
    "            processed_vids[num].append(int(strike_num))\n",
    "            save_dictionary(processed_vids, saved_results_filename)\n",
    "        except Exception as e:\n",
    "            print(f\"failed on specimen {num} strike {strike_num}\")"
   ]
  },
  {
   "cell_type": "code",
   "execution_count": null,
   "metadata": {},
   "outputs": [],
   "source": []
  },
  {
   "cell_type": "code",
   "execution_count": null,
   "metadata": {},
   "outputs": [],
   "source": []
  }
 ],
 "metadata": {
  "kernelspec": {
   "display_name": "hsflfm",
   "language": "python",
   "name": "python3"
  },
  "language_info": {
   "codemirror_mode": {
    "name": "ipython",
    "version": 3
   },
   "file_extension": ".py",
   "mimetype": "text/x-python",
   "name": "python",
   "nbconvert_exporter": "python",
   "pygments_lexer": "ipython3",
   "version": "3.12.7"
  }
 },
 "nbformat": 4,
 "nbformat_minor": 2
}

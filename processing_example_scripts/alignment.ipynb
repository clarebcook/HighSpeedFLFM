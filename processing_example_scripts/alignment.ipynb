{
 "cells": [
  {
   "cell_type": "code",
   "execution_count": null,
   "metadata": {},
   "outputs": [],
   "source": [
    "from hsflfm.processing import Aligner, world_frame_to_pixel\n",
    "from hsflfm.analysis import ResultPlotter\n",
    "from hsflfm.util import (\n",
    "    MetadataManager,\n",
    "    matmul,\n",
    ")\n",
    "from hsflfm.calibration import FLF_System\n",
    "from matplotlib import pyplot as plt\n",
    "import numpy as np"
   ]
  },
  {
   "cell_type": "code",
   "execution_count": null,
   "metadata": {},
   "outputs": [],
   "source": [
    "specimen_numbers = MetadataManager.all_specimen_numbers()"
   ]
  },
  {
   "cell_type": "code",
   "execution_count": null,
   "metadata": {},
   "outputs": [],
   "source": [
    "num = specimen_numbers[10]\n",
    "data_manager = MetadataManager(num)\n",
    "aligner = Aligner(num)\n",
    "\n",
    "A_base, s_base = aligner.run_base_alignment()\n",
    "A, s = aligner.run_strike1_alignment()\n",
    "\n",
    "mp_base = aligner.move_points_to_mesh(\n",
    "    A_base, s_base, aligner.point_camera_locations\n",
    ")\n",
    "mp = aligner.move_points_to_mesh(A, s, aligner.point_camera_locations)"
   ]
  },
  {
   "cell_type": "code",
   "execution_count": null,
   "metadata": {},
   "outputs": [],
   "source": [
    "# Display mesh with points before and after fine alignment\n",
    "p = np.concatenate((mp_base, mp))\n",
    "values = [\"blue\"] * len(mp_base) + [\"red\"] * len(mp)\n",
    "\n",
    "ResultPlotter.plot_mesh_with_points(\n",
    "    points=p, point_values=values, use_display_mesh=True, opacity=0.5\n",
    ")"
   ]
  },
  {
   "cell_type": "code",
   "execution_count": null,
   "metadata": {},
   "outputs": [],
   "source": [
    "# display base and refined coordinate system on ant images\n",
    "def show_coord_system(cam_number=0):\n",
    "    system = FLF_System(data_manager.calibration_filename)\n",
    "    dark_image = data_manager.get_start_images(strike_number=1)[cam_number]\n",
    "    light_image = data_manager.light_calibration_images[cam_number]\n",
    "\n",
    "    scale = 0.5\n",
    "    points = [[0, 0, 0], [scale, 0, 0], [0, scale, 0]]\n",
    "    cam_points = matmul(np.linalg.inv(A), points)\n",
    "    pixels = (\n",
    "        np.asarray([world_frame_to_pixel(system, i, camera=cam_number) for i in cam_points])\n",
    "        .squeeze()\n",
    "        .T\n",
    "    )\n",
    "    cam_points_base = matmul(np.linalg.inv(A_base), points)\n",
    "    pixels_base = (\n",
    "        np.asarray(\n",
    "            [world_frame_to_pixel(system, i, camera=cam_number) for i in cam_points_base]\n",
    "        )\n",
    "        .squeeze()\n",
    "        .T\n",
    "    )\n",
    "\n",
    "    fig, (ax0, ax1) = plt.subplots(1, 2)\n",
    "    ax0.imshow(dark_image, cmap=\"gray\")\n",
    "    ax1.imshow(light_image, cmap=\"gray\")\n",
    "\n",
    "    for ax in (ax0, ax1):\n",
    "        ax.plot(\n",
    "            pixels_base[1, :2],\n",
    "            pixels_base[0, :2],\n",
    "            \"-\",\n",
    "            color=\"blue\",\n",
    "            label=\"base alignment\",\n",
    "        )\n",
    "        ax.plot(\n",
    "            [pixels_base[1, 0], pixels_base[1, 2]],\n",
    "            [pixels_base[0, 0], pixels_base[0, 2]],\n",
    "            color=\"blue\",\n",
    "        )\n",
    "\n",
    "        ax.plot(pixels[1, :2], pixels[0, :2], \"-\", color=\"red\")\n",
    "        ax.plot(\n",
    "            [pixels[1, 0], pixels[1, 2]],\n",
    "            [pixels[0, 0], pixels[0, 2]],\n",
    "            color=\"red\",\n",
    "            label=\"fine alignment\",\n",
    "        )\n",
    "\n",
    "        ax.set_xticks([])\n",
    "        ax.set_yticks([])\n",
    "    ax1.legend()\n",
    "    fig.suptitle(num + ', ' + str(i))\n",
    "    plt.tight_layout()\n",
    "\n",
    "\n",
    "show_coord_system()"
   ]
  },
  {
   "cell_type": "code",
   "execution_count": null,
   "metadata": {},
   "outputs": [],
   "source": [
    "# then color separately to check for obvious shifts between the images\n",
    "cam_number = 2\n",
    "dark_image = data_manager.get_start_images(strike_number=1)[cam_number]\n",
    "light_image = data_manager.light_calibration_images[cam_number]\n",
    "\n",
    "c_img = np.zeros((dark_image.shape[0], dark_image.shape[1], 3))\n",
    "c_img[:, :, 0] = light_image\n",
    "c_img[:, :, 2] = dark_image * 5\n",
    "\n",
    "c_img = (c_img - np.min(c_img)) / (np.max(c_img) - np.min(c_img))\n",
    "\n",
    "plt.imshow(c_img)\n",
    "plt.gca().set_xticks([])\n",
    "plt.gca().set_yticks([])"
   ]
  },
  {
   "cell_type": "code",
   "execution_count": null,
   "metadata": {},
   "outputs": [],
   "source": [
    "# Possible samples of concern\n",
    "# 20220427_OB_4\n",
    "# 20240427_OB_5\n",
    "# 20240417_OB_2\n",
    "# 20240417_OB_1\n",
    "# 20240502_OB_2\n",
    "# 20240503_OB_4\n",
    "# 20240503_OB_5\n",
    "\n",
    "# Good examples:\n",
    "# 20240430_OB_2"
   ]
  },
  {
   "cell_type": "code",
   "execution_count": null,
   "metadata": {},
   "outputs": [],
   "source": [
    "for i, num in enumerate(specimen_numbers):\n",
    "    data_manager = MetadataManager(num)\n",
    "    aligner = Aligner(num)\n",
    "\n",
    "    A_base, s_base = aligner.run_base_alignment()\n",
    "    A, s = aligner.run_strike1_alignment()\n",
    "\n",
    "    show_coord_system()\n",
    "\n",
    "    plt.show()"
   ]
  },
  {
   "cell_type": "code",
   "execution_count": null,
   "metadata": {},
   "outputs": [],
   "source": []
  }
 ],
 "metadata": {
  "kernelspec": {
   "display_name": "hsflfm",
   "language": "python",
   "name": "python3"
  },
  "language_info": {
   "codemirror_mode": {
    "name": "ipython",
    "version": 3
   },
   "file_extension": ".py",
   "mimetype": "text/x-python",
   "name": "python",
   "nbconvert_exporter": "python",
   "pygments_lexer": "ipython3",
   "version": "3.12.7"
  }
 },
 "nbformat": 4,
 "nbformat_minor": 2
}

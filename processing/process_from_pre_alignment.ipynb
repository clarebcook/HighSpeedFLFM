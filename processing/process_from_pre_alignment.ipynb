{
 "cells": [
  {
   "cell_type": "code",
   "execution_count": 1,
   "id": "22537c91",
   "metadata": {},
   "outputs": [],
   "source": [
    "import os \n",
    "import numpy as np\n",
    "from hsflfm.util import MetadataManager, load_dictionary, save_dictionary\n",
    "from hsflfm.processing import StrikeProcessor\n",
    "from hsflfm.analysis import ResultPlotter, ResultManager, BulkAnalyzer\n",
    "from matplotlib import pyplot as plt\n",
    "from tqdm import tqdm"
   ]
  },
  {
   "cell_type": "code",
   "execution_count": 2,
   "id": "901fd1d3",
   "metadata": {},
   "outputs": [],
   "source": [
    "def get_filename(specimen_number, strike_number, alignment_folder):\n",
    "    if not os.path.exists(alignment_folder):\n",
    "        os.mkdir(alignment_folder)\n",
    "    spec_folder = alignment_folder + f\"/{specimen_number}\"\n",
    "    if not os.path.exists(spec_folder):\n",
    "        os.mkdir(spec_folder)\n",
    "    filename = spec_folder + f\"/strike_{int(strike_number)}.json\"\n",
    "    return filename\n",
    "\n",
    "def get_save_filename(specimen_number, strike_number, save_folder):\n",
    "    if not os.path.exists(save_folder):\n",
    "        os.mkdir(save_folder)\n",
    "    spec_folder = save_folder + f\"/{specimen_number}\"\n",
    "    if not os.path.exists(spec_folder):\n",
    "        os.mkdir(spec_folder)\n",
    "    filename = spec_folder + f\"/strike_{int(strike_number)}_results.json\"\n",
    "    return filename\n",
    "\n",
    "save_folder = \"../complete_results_pseudo_inverse_20250803\"\n",
    "alignment_folder = \"../alignment_results_20241227\""
   ]
  },
  {
   "cell_type": "code",
   "execution_count": null,
   "id": "2b70deca",
   "metadata": {},
   "outputs": [],
   "source": [
    "specimen_numbers = MetadataManager.all_specimen_numbers() \n",
    "for specimen_number in specimen_numbers:\n",
    "    mm = MetadataManager(specimen_number)\n",
    "    for strike_number in tqdm(mm.strike_numbers):\n",
    "        save_filename = get_save_filename(specimen_number, strike_number, alignment_folder)\n",
    "        if os.path.exists(save_filename):\n",
    "            print(f\"already completed {specimen_number}, {strike_number}\")\n",
    "            continue\n",
    "        filename = get_filename(specimen_number, strike_number, save_folder)\n",
    "\n",
    "        if not os.path.exists(filename):\n",
    "            print(f\"could not find file for {specimen_number} strike {strike_number}\")\n",
    "            continue\n",
    "\n",
    "        align_results = load_dictionary(filename)\n",
    "\n",
    "        processor = StrikeProcessor(align_results)\n",
    "        processor.get_flow_vectors()\n",
    "        processor.run_regression() \n",
    "        processor.get_relative_displacements() \n",
    "        result_info = processor.condense_info() \n",
    "\n",
    "        save_dictionary(result_info, save_filename)"
   ]
  }
 ],
 "metadata": {
  "kernelspec": {
   "display_name": "hsflfm",
   "language": "python",
   "name": "python3"
  },
  "language_info": {
   "codemirror_mode": {
    "name": "ipython",
    "version": 3
   },
   "file_extension": ".py",
   "mimetype": "text/x-python",
   "name": "python",
   "nbconvert_exporter": "python",
   "pygments_lexer": "ipython3",
   "version": "3.12.7"
  }
 },
 "nbformat": 4,
 "nbformat_minor": 5
}
